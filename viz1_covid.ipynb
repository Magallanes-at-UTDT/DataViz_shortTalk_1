{
 "cells": [
  {
   "cell_type": "markdown",
   "id": "bd908cab-5f0d-4473-ba86-a8e2781ad37b",
   "metadata": {
    "id": "bd908cab-5f0d-4473-ba86-a8e2781ad37b"
   },
   "source": [
    "<center><img src=\"https://github.com/Magallanes-at-UTDT/DataViz_shortTalk_1/blob/main/LogoTaller_viz.png?raw=true\" width=\"1000\"></center>\n",
    "\n",
    "\n",
    "# **THE BASICS**\n",
    "\n",
    "We will cover the foundations for preparing a _viz_. Let's check some basic concepts here:\n",
    "\n",
    "\n",
    "# **HANDS-ON!**\n",
    "\n",
    "## The Data:\n",
    "\n",
    "We will use:\n",
    "- Covid deaths in Perú [link](https://www.datosabiertos.gob.pe/dataset/fallecidos-por-covid-19-ministerio-de-salud-minsa)\n",
    "- Covid cases in Perú [link](https://www.datosabiertos.gob.pe/dataset/casos-positivos-por-covid-19-ministerio-de-salud-minsa)\n",
    "\n",
    "I renamed the files as *fallecidos_covid* and *positivos_covid* in the _.csv_ format."
   ]
  },
  {
   "cell_type": "code",
   "execution_count": null,
   "id": "Yj1xdoC3I4L9",
   "metadata": {
    "id": "Yj1xdoC3I4L9"
   },
   "outputs": [],
   "source": [
    "# !pip install unidecode"
   ]
  },
  {
   "cell_type": "code",
   "execution_count": null,
   "id": "d25bb792",
   "metadata": {
    "id": "d25bb792"
   },
   "outputs": [],
   "source": [
    "dataLink1=\"https://short-talks.s3.sa-east-1.amazonaws.com/fallecidos_covid.csv\"\n",
    "dataLink2=\"https://short-talks.s3.sa-east-1.amazonaws.com/positivos_covid.csv\"\n",
    "\n",
    "# # opening file\n",
    "import pandas as pd\n",
    "covid_f=pd.read_csv(dataLink1,sep=\";\")\n",
    "covid_p=pd.read_csv(dataLink2,sep=\";\")\n",
    "\n",
    "# column names normalized\n",
    "from unidecode import unidecode\n",
    "covid_f.columns=[unidecode(col) for col in covid_f.columns.str.replace('\\s','',regex=True)]\n",
    "covid_p.columns=[unidecode(col) for col in covid_p.columns.str.replace('\\s','',regex=True)]\n",
    "\n",
    "# see what Python understood\n",
    "covid_f.info(),covid_p.info();"
   ]
  },
  {
   "cell_type": "markdown",
   "id": "18d0e804-d21c-4207-ab9e-31e89c18f957",
   "metadata": {
    "id": "18d0e804-d21c-4207-ab9e-31e89c18f957"
   },
   "source": [
    "The **plan** is to see how covid developed as time went by, so we make sure the data is well suited."
   ]
  },
  {
   "cell_type": "code",
   "execution_count": null,
   "id": "f5dbb026-d922-4383-8c1c-1eb8ca4ca117",
   "metadata": {
    "id": "f5dbb026-d922-4383-8c1c-1eb8ca4ca117"
   },
   "outputs": [],
   "source": [
    "# making sure key columns are complete\n",
    "covid_p=covid_p[~(covid_p.FECHA_RESULTADO.isnull()|covid_p.EDAD.isnull()|covid_p.PROVINCIA.isnull())]\n",
    "covid_f=covid_f[~(covid_f.FECHA_FALLECIMIENTO.isnull()|covid_f.EDAD_DECLARADA.isnull()|covid_f.PROVINCIA.isnull())]\n",
    "\n",
    "# format dates the right way\n",
    "covid_p.loc[:,'FECHA_RESULTADO']=covid_p.FECHA_RESULTADO.astype(int)\n",
    "covid_p['FECHA_RESULTADO']=pd.to_datetime(covid_p.FECHA_RESULTADO, format='%Y%m%d')\n",
    "covid_f['FECHA_FALLECIMIENTO']=pd.to_datetime(covid_f.FECHA_FALLECIMIENTO, format='%Y%m%d')\n",
    "\n",
    "# extract information from dates\n",
    "covid_p[['month_test','year_test']]=[(day.month,day.year) for day in covid_p['FECHA_RESULTADO']]\n",
    "covid_f[['month_test','year_test']]=[(day.month,day.year) for day in covid_f['FECHA_FALLECIMIENTO']]\n",
    "\n",
    "# bining ages\n",
    "TheBins=[0,40,60,200]\n",
    "TheBins_Labels=[1,2,3]\n",
    "covid_f['EDADgrupo']=pd.cut(covid_f.EDAD_DECLARADA,bins=TheBins,labels=TheBins_Labels)\n",
    "covid_p['EDADgrupo']=pd.cut(covid_p.EDAD,bins=TheBins,labels=TheBins_Labels)\n",
    "\n",
    "# subset the data\n",
    "columnsToGet=['PROVINCIA','EDADgrupo','SEXO', 'month_test','year_test']\n",
    "yearsNeeded=[2020,2021]\n",
    "covid_p_monthly=covid_p.loc[:,columnsToGet]\n",
    "covid_f_monthly=covid_f.loc[:,columnsToGet]\n",
    "covid_p_monthly=covid_p_monthly[covid_p_monthly.year_test.isin(yearsNeeded)]\n",
    "covid_f_monthly=covid_f_monthly[covid_f_monthly.year_test.isin(yearsNeeded)]\n",
    "\n",
    "# getting rid of imcomplete cases\n",
    "covid_p_monthly=covid_p_monthly[~covid_p_monthly.PROVINCIA.isin(['EN INVESTIGACIÓN'])]\n",
    "covid_f_monthly=covid_f_monthly[~covid_f_monthly.PROVINCIA.isin(['EN INVESTIGACIÓN'])]\n",
    "\n",
    "covid_f_monthly['cases_f']=1 # flag for arithmetic\n",
    "covid_p_monthly['cases_p']=1 # flag for arithmetic"
   ]
  },
  {
   "cell_type": "markdown",
   "id": "0ea87442-997a-4048-858e-3ee1df4672c7",
   "metadata": {
    "id": "0ea87442-997a-4048-858e-3ee1df4672c7"
   },
   "source": [
    "You have two dataframes, that look like this:"
   ]
  },
  {
   "cell_type": "code",
   "execution_count": null,
   "id": "2c5b2779-674b-45e0-95b4-40bd1b4adfce",
   "metadata": {
    "id": "2c5b2779-674b-45e0-95b4-40bd1b4adfce"
   },
   "outputs": [],
   "source": [
    "covid_f_monthly"
   ]
  },
  {
   "cell_type": "markdown",
   "id": "6ef2fd40-6606-4663-96a8-f5a0376423f3",
   "metadata": {
    "id": "6ef2fd40-6606-4663-96a8-f5a0376423f3"
   },
   "source": [
    "## <div class=\"alert alert-success\" role=\"alert\">Get Tidy, Decide what to Encode, Choose a Mark for the encodings</div>"
   ]
  },
  {
   "cell_type": "markdown",
   "id": "66c12978-6472-4d3b-b80d-041890ef57c6",
   "metadata": {
    "id": "66c12978-6472-4d3b-b80d-041890ef57c6"
   },
   "source": [
    "Those are the three basics. Let's follow them, and play with the results:\n",
    "\n",
    "* **Get Tidy**\n",
    "  \n",
    "The dataframe is in **wide shape** (each row is a case), we need a **long shape** (a **TIDY** format). Let me sum the cases by all the possible grouping variables:"
   ]
  },
  {
   "cell_type": "code",
   "execution_count": null,
   "id": "5678d8fe-e929-4b4e-ba6e-f0c795f1c71f",
   "metadata": {
    "id": "5678d8fe-e929-4b4e-ba6e-f0c795f1c71f"
   },
   "outputs": [],
   "source": [
    "covid_f_monthly_tidy=covid_f_monthly.groupby(by=columnsToGet,observed=True,as_index=False)['cases_f'].agg('sum') #using flag\n",
    "covid_p_monthly_tidy=covid_p_monthly.groupby(by=columnsToGet,observed=True,as_index=False)['cases_p'].agg('sum') #using flag"
   ]
  },
  {
   "cell_type": "markdown",
   "id": "eb67b179-28f7-4488-8e4c-85da3724b384",
   "metadata": {
    "id": "eb67b179-28f7-4488-8e4c-85da3724b384"
   },
   "source": [
    "Let's check the tidy data frame, sorted by the amount of cases:"
   ]
  },
  {
   "cell_type": "code",
   "execution_count": null,
   "id": "9cc19dc5-2c78-4dbb-a0ab-793e7f1f8137",
   "metadata": {
    "id": "9cc19dc5-2c78-4dbb-a0ab-793e7f1f8137"
   },
   "outputs": [],
   "source": [
    "covid_p_monthly_tidy.sort_values(['cases_p'], ascending=[False])"
   ]
  },
  {
   "cell_type": "markdown",
   "id": "ce4c4049-c7d5-42b5-a5dc-759a7fab8dc0",
   "metadata": {
    "id": "ce4c4049-c7d5-42b5-a5dc-759a7fab8dc0"
   },
   "source": [
    "Tidy data generally will have more rows. The first one is telling you the amount of men cases in Lima in march of 2021 in that age group.\n",
    "\n",
    "Now, let's prepare our plot. First, activate the library we will use:"
   ]
  },
  {
   "cell_type": "code",
   "execution_count": null,
   "id": "WNCU9RW2KAxn",
   "metadata": {
    "id": "WNCU9RW2KAxn"
   },
   "outputs": [],
   "source": [
    "# !pip install altair -U"
   ]
  },
  {
   "cell_type": "code",
   "execution_count": null,
   "id": "gx2IjGDWKJuF",
   "metadata": {
    "id": "gx2IjGDWKJuF"
   },
   "outputs": [],
   "source": [
    "# !pip install \"vegafusion-jupyter[embed]\""
   ]
  },
  {
   "cell_type": "code",
   "execution_count": null,
   "id": "74214c2c-1073-4f1a-963e-74681ce501df",
   "metadata": {
    "id": "74214c2c-1073-4f1a-963e-74681ce501df"
   },
   "outputs": [],
   "source": [
    "import altair as alt\n",
    "alt.data_transformers.enable(\"vegafusion\")"
   ]
  },
  {
   "cell_type": "markdown",
   "id": "7514d9e3-07f4-4f21-83c3-72bb440d9783",
   "metadata": {
    "id": "7514d9e3-07f4-4f21-83c3-72bb440d9783"
   },
   "source": [
    "Now, read the data frame into the library:"
   ]
  },
  {
   "cell_type": "code",
   "execution_count": null,
   "id": "fbc8a3fc-02db-475c-affe-69b15866c036",
   "metadata": {
    "id": "fbc8a3fc-02db-475c-affe-69b15866c036"
   },
   "outputs": [],
   "source": [
    "# the data\n",
    "ALT_covid_p=alt.Chart(covid_p_monthly_tidy)"
   ]
  },
  {
   "cell_type": "markdown",
   "id": "6f1ecc25-46ea-40e0-9190-d7a235891c47",
   "metadata": {
    "id": "6f1ecc25-46ea-40e0-9190-d7a235891c47"
   },
   "source": [
    "* **Decide what to encode**"
   ]
  },
  {
   "cell_type": "code",
   "execution_count": null,
   "id": "9a2d4166-59af-4259-9ed3-83992d0afd57",
   "metadata": {
    "id": "9a2d4166-59af-4259-9ed3-83992d0afd57"
   },
   "outputs": [],
   "source": [
    "ENCO_covid_p=ALT_covid_p.encode(\n",
    "                                alt.Y('cases_p')# column 'cases_p' on the vertical\n",
    ")"
   ]
  },
  {
   "cell_type": "markdown",
   "id": "1874c6ae-8acd-4eb4-b75c-6e5098cda8a3",
   "metadata": {
    "id": "1874c6ae-8acd-4eb4-b75c-6e5098cda8a3"
   },
   "source": [
    "* **Choose a mark for the encodings**"
   ]
  },
  {
   "cell_type": "code",
   "execution_count": null,
   "id": "dbe54346-a7ae-4766-a3b4-78bf43edc316",
   "metadata": {
    "id": "dbe54346-a7ae-4766-a3b4-78bf43edc316"
   },
   "outputs": [],
   "source": [
    "ENCO_covid_p.mark_point()"
   ]
  },
  {
   "cell_type": "markdown",
   "id": "fc482b3d-bd46-4bf2-90a3-c5e67b56c878",
   "metadata": {
    "id": "fc482b3d-bd46-4bf2-90a3-c5e67b56c878"
   },
   "source": [
    "Altair gave us exactly what was requested. But it is a viz far from relevant. While we keep using the same data, we will make changes to encodings and marks."
   ]
  },
  {
   "cell_type": "code",
   "execution_count": null,
   "id": "0c9c73b1-e652-4cec-8b2a-960a7544fac9",
   "metadata": {
    "id": "0c9c73b1-e652-4cec-8b2a-960a7544fac9"
   },
   "outputs": [],
   "source": [
    "ENCO_covid_p=ALT_covid_p.encode(alt.X('cases_p') # on the horizontal\n",
    "                               )\n",
    "ENCO_covid_p.mark_point()"
   ]
  },
  {
   "cell_type": "markdown",
   "id": "b8c1bb98-f0eb-481b-aab8-a09f6578cb4a",
   "metadata": {
    "id": "b8c1bb98-f0eb-481b-aab8-a09f6578cb4a"
   },
   "source": [
    "We could use a boxplot to represent the encodings."
   ]
  },
  {
   "cell_type": "code",
   "execution_count": null,
   "id": "87b76cfa-b325-4cc9-a508-88fb71c85901",
   "metadata": {
    "id": "87b76cfa-b325-4cc9-a508-88fb71c85901"
   },
   "outputs": [],
   "source": [
    "ENCO_covid_p=ALT_covid_p.encode(alt.X('cases_p',\n",
    "                                      scale=alt.Scale(type='log'))) # rescale\n",
    "ENCO_covid_p.mark_boxplot()"
   ]
  },
  {
   "cell_type": "markdown",
   "id": "1c97c0f5-283d-472c-b0e7-508aea073bb9",
   "metadata": {
    "id": "1c97c0f5-283d-472c-b0e7-508aea073bb9"
   },
   "source": [
    "What if we sum?"
   ]
  },
  {
   "cell_type": "code",
   "execution_count": null,
   "id": "f3591f0b-111f-4984-acd1-e9ba40bbedcf",
   "metadata": {
    "id": "f3591f0b-111f-4984-acd1-e9ba40bbedcf"
   },
   "outputs": [],
   "source": [
    "ENCO_covid_p=ALT_covid_p.encode(alt.X('sum(cases_p)')\n",
    "                               )\n",
    "ENCO_covid_p.mark_point()"
   ]
  },
  {
   "cell_type": "markdown",
   "id": "5a516cf8-3338-44c4-9dcb-09e700faf770",
   "metadata": {
    "id": "5a516cf8-3338-44c4-9dcb-09e700faf770"
   },
   "source": [
    "As expected, we got one point that represents:"
   ]
  },
  {
   "cell_type": "code",
   "execution_count": null,
   "id": "703dc0b9-edbe-4758-ac63-aa646404104d",
   "metadata": {
    "id": "703dc0b9-edbe-4758-ac63-aa646404104d"
   },
   "outputs": [],
   "source": [
    "covid_p_monthly_tidy.cases_p.sum()"
   ]
  },
  {
   "cell_type": "markdown",
   "id": "f950b695-9b67-45db-a751-56bfb0348c13",
   "metadata": {
    "id": "f950b695-9b67-45db-a751-56bfb0348c13"
   },
   "source": [
    "Let's encode these values on both axes:"
   ]
  },
  {
   "cell_type": "code",
   "execution_count": null,
   "id": "1b395872-8845-452d-995c-a1939358f12c",
   "metadata": {
    "id": "1b395872-8845-452d-995c-a1939358f12c"
   },
   "outputs": [],
   "source": [
    "ENCO_covid_p=ALT_covid_p.encode(alt.Y('sum(cases_p)'),\n",
    "                                alt.X('year_test')\n",
    "                               )\n",
    "ENCO_covid_p.mark_point()"
   ]
  },
  {
   "cell_type": "markdown",
   "id": "be5911cc-f84a-4ee4-8065-1e69dfc1ca25",
   "metadata": {
    "id": "be5911cc-f84a-4ee4-8065-1e69dfc1ca25"
   },
   "source": [
    "Something basic to remember, the data types: **Q**uantitative, **O**rdinal, and **Nominal**. If we specify those in _Altair_, results may be better:"
   ]
  },
  {
   "cell_type": "code",
   "execution_count": null,
   "id": "82f4d79e-78bd-43f7-afe1-246a3c2acd43",
   "metadata": {
    "id": "82f4d79e-78bd-43f7-afe1-246a3c2acd43"
   },
   "outputs": [],
   "source": [
    "ENCO_covid_p=ALT_covid_p.encode(alt.Y('sum(cases_p):Q'),\n",
    "                                alt.X('year_test:O')\n",
    "                               )\n",
    "ENCO_covid_p.mark_point()"
   ]
  },
  {
   "cell_type": "code",
   "execution_count": null,
   "id": "2ac1e90f-bf13-4075-9805-9238a54c1c60",
   "metadata": {
    "id": "2ac1e90f-bf13-4075-9805-9238a54c1c60"
   },
   "outputs": [],
   "source": [
    "# or\n",
    "ENCO_covid_p=ALT_covid_p.encode(alt.Y('sum(cases_p):Q'),\n",
    "                                alt.X('month_test:O')\n",
    "                               )\n",
    "ENCO_covid_p.mark_point()"
   ]
  },
  {
   "cell_type": "markdown",
   "id": "60679efe-cf27-4fbc-9852-1a96a8034040",
   "metadata": {
    "id": "60679efe-cf27-4fbc-9852-1a96a8034040"
   },
   "source": [
    "Keep in mind **audiences**, some are used to particular marks for their usual encodings. However, there are poor choices \"encodings-marks\" too. Points encode the **position** of counts, the higher the more cases. What if we use **color**, where the higher the count the darker the _hue_."
   ]
  },
  {
   "cell_type": "code",
   "execution_count": null,
   "id": "f65fc95f-1160-4f01-ad59-b02c8e195e7a",
   "metadata": {
    "id": "f65fc95f-1160-4f01-ad59-b02c8e195e7a"
   },
   "outputs": [],
   "source": [
    "ENCO_covid_p=ALT_covid_p.encode(alt.X('month_test:O').title('meses'),\n",
    "                               alt.Color('sum(cases_p):Q').title('Conteo'))\n",
    "\n",
    "ENCO_covid_p.mark_rect().properties(height=150)"
   ]
  },
  {
   "cell_type": "markdown",
   "id": "fdf4e595-3756-4118-9a8f-a06cf06b84fb",
   "metadata": {
    "id": "fdf4e595-3756-4118-9a8f-a06cf06b84fb"
   },
   "source": [
    "The _density_ represented should take into account the problem of color-blindness when choosing a [color map](https://vega.github.io/vega/docs/schemes/)."
   ]
  },
  {
   "cell_type": "code",
   "execution_count": null,
   "id": "22e41a5c-d2e3-4b0d-be9f-15703341d7f8",
   "metadata": {
    "id": "22e41a5c-d2e3-4b0d-be9f-15703341d7f8"
   },
   "outputs": [],
   "source": [
    "ENCO_covid_p=ALT_covid_p.encode(alt.X('month_test:O').title('meses'),\n",
    "                               alt.Color('sum(cases_p):Q',scale=alt.Scale(scheme='goldgreen')).title('Conteo'))\n",
    "ENCO_covid_p.mark_rect().properties(height=150)"
   ]
  },
  {
   "cell_type": "markdown",
   "id": "b21bf24d-e5c2-4300-9b79-b98939a17eb4",
   "metadata": {
    "id": "b21bf24d-e5c2-4300-9b79-b98939a17eb4"
   },
   "source": [
    "It is very safe to use greys!"
   ]
  },
  {
   "cell_type": "code",
   "execution_count": null,
   "id": "60175e97-bdd4-43b4-8af0-d6f24b7e1ebb",
   "metadata": {
    "id": "60175e97-bdd4-43b4-8af0-d6f24b7e1ebb"
   },
   "outputs": [],
   "source": [
    "ENCO_covid_p=ALT_covid_p.encode(alt.X('month_test:O').title('meses'),\n",
    "                               alt.Color('sum(cases_p):Q',scale=alt.Scale(scheme='greys')).title('Conteo'))\n",
    "ENCO_covid_p.mark_rect().properties(height=150)"
   ]
  },
  {
   "cell_type": "markdown",
   "id": "e9fff38f-b2c5-451e-a7f0-52fc61d7b34d",
   "metadata": {
    "id": "e9fff38f-b2c5-451e-a7f0-52fc61d7b34d"
   },
   "source": [
    "The use of bars is not better than points, specially if the width is not encoding something."
   ]
  },
  {
   "cell_type": "code",
   "execution_count": null,
   "id": "d59e45a8-c8b4-470e-8b55-50f14936a532",
   "metadata": {
    "id": "d59e45a8-c8b4-470e-8b55-50f14936a532"
   },
   "outputs": [],
   "source": [
    "ENCO_covid_p=ALT_covid_p.encode(alt.Y('sum(cases_p):Q'),\n",
    "                                alt.X('month_test:O')\n",
    "                               )\n",
    "ENCO_covid_p.mark_bar()"
   ]
  },
  {
   "cell_type": "markdown",
   "id": "d434975f-a3b8-49b8-b80b-923e5c04b116",
   "metadata": {
    "id": "d434975f-a3b8-49b8-b80b-923e5c04b116"
   },
   "source": [
    "So, length lines are a better choice than bars, and a good alternative to points:"
   ]
  },
  {
   "cell_type": "code",
   "execution_count": null,
   "id": "57c8bea1-418d-40bb-8103-6e21ab94c34f",
   "metadata": {
    "id": "57c8bea1-418d-40bb-8103-6e21ab94c34f"
   },
   "outputs": [],
   "source": [
    "ENCO_covid_p=ALT_covid_p.encode(alt.Y('sum(cases_p):Q'),\n",
    "                                alt.X('month_test:O')\n",
    "                               )\n",
    "ENCO_covid_p.mark_rule()"
   ]
  },
  {
   "cell_type": "markdown",
   "id": "32bbc20c-c619-4d22-9db4-1f27e87a69f9",
   "metadata": {
    "id": "32bbc20c-c619-4d22-9db4-1f27e87a69f9"
   },
   "source": [
    "But, a time line is in general the best choice:"
   ]
  },
  {
   "cell_type": "code",
   "execution_count": null,
   "id": "ad82d36f-3704-46e2-a200-5adf304693d3",
   "metadata": {
    "id": "ad82d36f-3704-46e2-a200-5adf304693d3"
   },
   "outputs": [],
   "source": [
    "ENCO_covid_p=ALT_covid_p.encode(alt.Y('sum(cases_p):Q'),\n",
    "                                alt.X('month_test:O')\n",
    "                               )\n",
    "ENCO_covid_p.mark_line()"
   ]
  },
  {
   "cell_type": "markdown",
   "id": "76a8ba3a-d945-4a03-86aa-3869cbaa44c5",
   "metadata": {
    "id": "76a8ba3a-d945-4a03-86aa-3869cbaa44c5"
   },
   "source": [
    "We have months for two years, so we could split the previous plot:"
   ]
  },
  {
   "cell_type": "code",
   "execution_count": null,
   "id": "54803abd-7366-4a21-a326-cd547e0e7c4d",
   "metadata": {
    "id": "54803abd-7366-4a21-a326-cd547e0e7c4d"
   },
   "outputs": [],
   "source": [
    "ENCO_covid_p=ALT_covid_p.encode(alt.Y('sum(cases_p):Q'),\n",
    "                                alt.X('month_test:O'),\n",
    "                                alt.Color('year_test')\n",
    "                               )\n",
    "ENCO_covid_p.mark_line()"
   ]
  },
  {
   "cell_type": "markdown",
   "id": "255d062f-fa96-4d9a-8d72-df97f246a3ec",
   "metadata": {
    "id": "255d062f-fa96-4d9a-8d72-df97f246a3ec"
   },
   "source": [
    "The data type is wrong for year, let's try ordinal?"
   ]
  },
  {
   "cell_type": "code",
   "execution_count": null,
   "id": "acb3b089-90a6-42a2-9c21-5ab6eff5440f",
   "metadata": {
    "id": "acb3b089-90a6-42a2-9c21-5ab6eff5440f"
   },
   "outputs": [],
   "source": [
    "ENCO_covid_p=ALT_covid_p.encode(alt.Y('sum(cases_p):Q'),\n",
    "                                alt.X('month_test:O'),\n",
    "                                alt.Color('year_test:O')\n",
    "                               )\n",
    "ENCO_covid_p.mark_line()"
   ]
  },
  {
   "cell_type": "markdown",
   "id": "a120ea24-e3a9-4d88-9fa8-65e3d7844f87",
   "metadata": {
    "id": "a120ea24-e3a9-4d88-9fa8-65e3d7844f87"
   },
   "source": [
    "In this case, the saturation did not help. If use year as nominal, two hues will be used:"
   ]
  },
  {
   "cell_type": "code",
   "execution_count": null,
   "id": "5bce9158-18d1-4b6c-be83-bfc761922357",
   "metadata": {
    "id": "5bce9158-18d1-4b6c-be83-bfc761922357"
   },
   "outputs": [],
   "source": [
    "ENCO_covid_p=ALT_covid_p.encode(alt.Y('sum(cases_p):Q'),\n",
    "                                alt.X('month_test:O'),\n",
    "                                alt.Color('year_test:N')\n",
    "                               )\n",
    "ENCO_covid_p.mark_line()"
   ]
  },
  {
   "cell_type": "markdown",
   "id": "46d16514-2b85-41f3-aa95-d464d85408c8",
   "metadata": {
    "id": "46d16514-2b85-41f3-aa95-d464d85408c8"
   },
   "source": [
    "Can this heatmap be a better choice?"
   ]
  },
  {
   "cell_type": "code",
   "execution_count": null,
   "id": "c1a15662-1ae3-4abd-96f1-c247aa3b5962",
   "metadata": {
    "id": "c1a15662-1ae3-4abd-96f1-c247aa3b5962"
   },
   "outputs": [],
   "source": [
    "ENCO_covid_p=ALT_covid_p.encode(alt.X('month_test:O').title('meses'),\n",
    "                                alt.Y('year_test:N',scale=alt.Scale(reverse=True)).title('año'),\n",
    "                               alt.Color('sum(cases_p)').title('Conteo'))\n",
    "\n",
    "ENCO_covid_p.mark_rect().properties(height=150)"
   ]
  },
  {
   "cell_type": "markdown",
   "id": "48ad20b7-c4f2-4a3a-9190-891c3222ecb1",
   "metadata": {
    "id": "48ad20b7-c4f2-4a3a-9190-891c3222ecb1"
   },
   "source": [
    "<div class=\"alert alert-danger\">\n",
    "  Once we have decided the mark for the basic encodings, we can start making our viz <strong>more complex!</strong>.\n",
    "</div>"
   ]
  },
  {
   "cell_type": "markdown",
   "id": "e3dfe16e-d46e-4e08-acc6-6ebacdcd6f9e",
   "metadata": {
    "id": "e3dfe16e-d46e-4e08-acc6-6ebacdcd6f9e"
   },
   "source": [
    "We could prepare this for positive cases:"
   ]
  },
  {
   "cell_type": "code",
   "execution_count": null,
   "id": "699e7596-9b7b-4be7-b0ea-ccc2f55b7fd5",
   "metadata": {
    "id": "699e7596-9b7b-4be7-b0ea-ccc2f55b7fd5"
   },
   "outputs": [],
   "source": [
    "# facetting by row and column\n",
    "\n",
    "ENCO_covid_p=ALT_covid_p.encode(alt.Y('sum(cases_p):Q'),\n",
    "                                alt.X('month_test:O'),\n",
    "                                alt.Color('year_test:N'),\n",
    "                                alt.Row('SEXO:N'),\n",
    "                                alt.Column('EDADgrupo:N', title=\"POSITIVOS (por grupo etareo)\")\n",
    "                               )\n",
    "ENCO_covid_p.mark_line()"
   ]
  },
  {
   "cell_type": "markdown",
   "id": "0bf087c6-e1a7-449b-bee6-98406a1bd9ac",
   "metadata": {
    "id": "0bf087c6-e1a7-449b-bee6-98406a1bd9ac"
   },
   "source": [
    "And this one for deadly cases:"
   ]
  },
  {
   "cell_type": "code",
   "execution_count": null,
   "id": "da238cb2-b84d-43cd-94f5-bc77f4087f14",
   "metadata": {
    "id": "da238cb2-b84d-43cd-94f5-bc77f4087f14"
   },
   "outputs": [],
   "source": [
    "# the data\n",
    "ALT_covid_f=alt.Chart(covid_f_monthly_tidy)\n",
    "ENCO_covid_f=ALT_covid_f.encode(alt.Y('sum(cases_f):Q'),\n",
    "                                alt.X('month_test:O'),\n",
    "                                alt.Color('year_test:N'),\n",
    "                                alt.Row('SEXO:N'),\n",
    "                                alt.Column('EDADgrupo:N', title=\"FALLECIDOS (por grupo etareo)\")\n",
    "                               )\n",
    "ENCO_covid_f.mark_line()"
   ]
  },
  {
   "cell_type": "markdown",
   "id": "85fe738b-5e6f-414e-8379-c2a7d3a2d8a4",
   "metadata": {
    "id": "85fe738b-5e6f-414e-8379-c2a7d3a2d8a4"
   },
   "source": [
    "Apparently, the previous plots revealed a mild difference between men and women. If that were true we may omit that in our facets, and proceed to concatenate cases and deaths:"
   ]
  },
  {
   "cell_type": "code",
   "execution_count": null,
   "id": "d299107b-8b0c-4248-b15e-f9fa407511d6",
   "metadata": {
    "id": "d299107b-8b0c-4248-b15e-f9fa407511d6"
   },
   "outputs": [],
   "source": [
    "columnsToGet=['PROVINCIA','EDADgrupo','month_test','year_test'] # no SEX\n",
    "\n",
    "# redoing the DF\n",
    "covid_p_monthly=covid_p.loc[:,columnsToGet]\n",
    "covid_f_monthly=covid_f.loc[:,columnsToGet]\n",
    "covid_p_monthly=covid_p_monthly[covid_p_monthly.year_test.isin([2020,2021])]\n",
    "covid_f_monthly=covid_f_monthly[covid_f_monthly.year_test.isin([2020,2021])]\n",
    "covid_p_monthly=covid_p_monthly[~covid_p_monthly.PROVINCIA.isin(['EN INVESTIGACIÓN'])]\n",
    "covid_f_monthly=covid_f_monthly[~covid_f_monthly.PROVINCIA.isin(['EN INVESTIGACIÓN'])]\n",
    "\n",
    "covid_f_monthly['fallecidos']=1\n",
    "covid_f_monthly_tidy=covid_f_monthly.groupby(by=columnsToGet,observed=True,as_index=True)['fallecidos'].agg('sum')\n",
    "covid_p_monthly['positivos']=1\n",
    "covid_p_monthly_tidy=covid_p_monthly.groupby(by=columnsToGet,observed=True,as_index=True)['positivos'].agg('sum')\n",
    "\n",
    "# a wide DF from two tidy DF\n",
    "covid_p_f_monthly_wide=pd.concat([covid_p_monthly_tidy,covid_f_monthly_tidy],ignore_index=False,axis=1)\n",
    "covid_p_f_monthly_wide"
   ]
  },
  {
   "cell_type": "markdown",
   "id": "2d7c78f4-5f5d-4a1b-bc71-c8b8aa85c344",
   "metadata": {
    "id": "2d7c78f4-5f5d-4a1b-bc71-c8b8aa85c344"
   },
   "source": [
    "Notice that this concatenation created missing values (very usual). Then,"
   ]
  },
  {
   "cell_type": "code",
   "execution_count": null,
   "id": "a2007862-25a0-42f9-9888-0541fa85c875",
   "metadata": {
    "id": "a2007862-25a0-42f9-9888-0541fa85c875"
   },
   "outputs": [],
   "source": [
    "covid_p_f_monthly_wide=pd.concat([covid_p_monthly_tidy,covid_f_monthly_tidy],ignore_index=False,axis=1).fillna(0)\n",
    "covid_p_f_monthly=covid_p_f_monthly_wide.reset_index()\n",
    "\n",
    "# this is not tidy but usual\n",
    "covid_p_f_monthly"
   ]
  },
  {
   "cell_type": "markdown",
   "id": "ed8cf431-121d-461f-bf7f-b725c3c55c4f",
   "metadata": {
    "id": "ed8cf431-121d-461f-bf7f-b725c3c55c4f"
   },
   "source": [
    "And this is the tidiest:"
   ]
  },
  {
   "cell_type": "code",
   "execution_count": null,
   "id": "9784f472-d1b7-42e4-b597-7082cb014a04",
   "metadata": {
    "id": "9784f472-d1b7-42e4-b597-7082cb014a04"
   },
   "outputs": [],
   "source": [
    "covid_p_f_monthly_tidy=covid_p_f_monthly_wide.melt(ignore_index=False).reset_index()\n",
    "covid_p_f_monthly_tidy"
   ]
  },
  {
   "cell_type": "markdown",
   "id": "d27c6041-ffc7-43d6-9b1f-9765b5822e02",
   "metadata": {
    "id": "d27c6041-ffc7-43d6-9b1f-9765b5822e02"
   },
   "source": [
    "Let's simplify what we did earlier, now that we have the deaths and cases in one dataframe:"
   ]
  },
  {
   "cell_type": "code",
   "execution_count": null,
   "id": "02092dd3-2af0-46db-89db-3b870c235085",
   "metadata": {
    "id": "02092dd3-2af0-46db-89db-3b870c235085"
   },
   "outputs": [],
   "source": [
    "ALT_data=alt.Chart(covid_p_f_monthly_tidy)\n",
    "ENC_data=ALT_data.encode(\n",
    "    alt.X('month_test:O'),\n",
    "    alt.Y('sum(value)',scale=alt.Scale(type=\"log\")),\n",
    "    alt.Color('year_test:N'),\n",
    "    alt.Row('variable'),\n",
    "    alt.Column('EDADgrupo:N',title=\"Casos y Muertes por grupo etareo\"),\n",
    "    tooltip=['sum(value)']\n",
    ").properties(width=200,height=200)\n",
    "\n",
    "ENC_data.mark_line()"
   ]
  },
  {
   "cell_type": "markdown",
   "id": "fa55ed16-28aa-4f02-b0e2-d4e8a96f2a17",
   "metadata": {
    "id": "fa55ed16-28aa-4f02-b0e2-d4e8a96f2a17"
   },
   "source": [
    "We can keep comparing deaths and cases with other marks:"
   ]
  },
  {
   "cell_type": "code",
   "execution_count": null,
   "id": "2ffcf715-269b-4668-bf21-15ea72dc8925",
   "metadata": {
    "id": "2ffcf715-269b-4668-bf21-15ea72dc8925"
   },
   "outputs": [],
   "source": [
    "ENC_data=ALT_data.encode(alt.Y('sumValues:Q',scale=alt.Scale(type=\"symlog\")),\n",
    "                         alt.Column('year_test:N'),\n",
    "                         alt.X('EDADgrupo:O'),\n",
    "                         alt.Row('variable'),\n",
    "                          tooltip=['PROVINCIA','sumValues:Q']\n",
    "                         ).transform_aggregate(sumValues='sum(value):Q',\n",
    "                                               groupby=[\"PROVINCIA\",'EDADgrupo','year_test','variable']\n",
    "                                               )\n",
    "\n",
    "ENC_data.mark_boxplot().resolve_scale(y='independent').properties(width=200,height=200)\n"
   ]
  },
  {
   "cell_type": "markdown",
   "id": "4973ed4d-0b04-4d17-97c0-86d1e7d0529f",
   "metadata": {
    "id": "4973ed4d-0b04-4d17-97c0-86d1e7d0529f"
   },
   "source": [
    "The wide data is useful for scatterplot-like viz:"
   ]
  },
  {
   "cell_type": "code",
   "execution_count": null,
   "id": "2f25785e-c9af-48ea-ba3d-eeec173adfd2",
   "metadata": {
    "id": "2f25785e-c9af-48ea-ba3d-eeec173adfd2"
   },
   "outputs": [],
   "source": [
    "ALT_data=alt.Chart(covid_p_f_monthly)\n",
    "\n",
    "ENC_data=ALT_data.encode(alt.X('sum(positivos)'),\n",
    "                         alt.Y('sum(fallecidos)'),\n",
    "                         alt.Column('year_test:N'),\n",
    "                         tooltip=['PROVINCIA']\n",
    "                         ).properties(width=200,height=200)\n",
    "\n",
    "ENC_data.mark_circle()"
   ]
  },
  {
   "cell_type": "code",
   "execution_count": null,
   "id": "e3044129-c06e-40fa-b434-6be3b5da93b9",
   "metadata": {
    "id": "e3044129-c06e-40fa-b434-6be3b5da93b9"
   },
   "outputs": [],
   "source": [
    "ENC_data=ALT_data.encode(alt.X('sum(positivos)',scale=alt.Scale(type=\"symlog\")),\n",
    "                         alt.Y('sum(fallecidos)',scale=alt.Scale(type=\"symlog\")),\n",
    "                         alt.Column('year_test:N'),\n",
    "                         tooltip=['PROVINCIA']\n",
    "                         ).properties(width=200,height=200)\n",
    "\n",
    "ENC_data.mark_circle()"
   ]
  },
  {
   "cell_type": "markdown",
   "id": "c1d0f9c8-1049-4d92-b3de-d6fb69157035",
   "metadata": {
    "id": "c1d0f9c8-1049-4d92-b3de-d6fb69157035"
   },
   "source": [
    "We can split the previous viz without facetting more:"
   ]
  },
  {
   "cell_type": "code",
   "execution_count": null,
   "id": "9431c464-8565-4b7f-af67-35f7e62008ba",
   "metadata": {
    "id": "9431c464-8565-4b7f-af67-35f7e62008ba"
   },
   "outputs": [],
   "source": [
    "ENC_data=ALT_data.encode(alt.X('sum(positivos)'),\n",
    "                         alt.Y('sum(fallecidos)'),\n",
    "                         alt.Column('year_test:N'),\n",
    "                         alt.Color('EDADgrupo:N'),\n",
    "                         tooltip=['PROVINCIA']\n",
    "                         ).properties(width=200,height=200)\n",
    "\n",
    "ENC_data.mark_circle()"
   ]
  },
  {
   "cell_type": "markdown",
   "id": "d843d81e-cdf0-445e-8b28-4f91cc653bd5",
   "metadata": {
    "id": "d843d81e-cdf0-445e-8b28-4f91cc653bd5"
   },
   "source": [
    "Let's save the tidy version."
   ]
  },
  {
   "cell_type": "code",
   "execution_count": null,
   "id": "d9e63895-aaca-41d3-a62f-8e42a4544c95",
   "metadata": {
    "id": "d9e63895-aaca-41d3-a62f-8e42a4544c95"
   },
   "outputs": [],
   "source": [
    "# covid_p_f_monthly_tidy.to_csv(\"covid_p_f_monthly_tidy.csv\",index=False)"
   ]
  },
  {
   "cell_type": "markdown",
   "id": "580fbce5-3a06-4293-a78d-4de03fe73820",
   "metadata": {
    "id": "580fbce5-3a06-4293-a78d-4de03fe73820"
   },
   "source": [
    "## <div class=\"alert alert-success\" role=\"alert\">Basics of Mapping data</div>\n",
    "\n",
    "Let's open a shapefile with the provinces of Peru."
   ]
  },
  {
   "cell_type": "code",
   "execution_count": null,
   "id": "02d87229-7155-42f7-afec-903cd33f10fa",
   "metadata": {
    "id": "02d87229-7155-42f7-afec-903cd33f10fa"
   },
   "outputs": [],
   "source": [
    "linkMap=\"https://github.com/Magallanes-at-UTDT/DataViz_shortTalk_1/raw/main/map/PROVINCIAS.shp\"\n",
    "\n",
    "import geopandas as gpd\n",
    "\n",
    "mapaProv=gpd.read_file(linkMap)"
   ]
  },
  {
   "cell_type": "markdown",
   "id": "237e9395-0519-4716-be6a-992731b7264d",
   "metadata": {
    "id": "237e9395-0519-4716-be6a-992731b7264d"
   },
   "source": [
    "We have a **GeoDF**:"
   ]
  },
  {
   "cell_type": "code",
   "execution_count": null,
   "id": "8e5d3fc4-6a7e-4dce-9aba-da20095e6dee",
   "metadata": {
    "id": "8e5d3fc4-6a7e-4dce-9aba-da20095e6dee"
   },
   "outputs": [],
   "source": [
    "mapaProv.info()"
   ]
  },
  {
   "cell_type": "markdown",
   "id": "0d21b4f3-4648-4e0c-aaaa-d22e1c440c12",
   "metadata": {
    "id": "0d21b4f3-4648-4e0c-aaaa-d22e1c440c12"
   },
   "source": [
    "We will merge our *covid_p_f_monthly_tidy* **into** *mapaProv*. This require that both columns \"PROVINCIA\" have the exact names."
   ]
  },
  {
   "cell_type": "code",
   "execution_count": null,
   "id": "d252c924-31e2-4b03-b8ca-5e56e275af92",
   "metadata": {
    "id": "d252c924-31e2-4b03-b8ca-5e56e275af92"
   },
   "outputs": [],
   "source": [
    "# in the GeoDF, but not in the DF\n",
    "NotInGeoDF=sorted(list(set(mapaProv.PROVINCIA)-set(covid_p_f_monthly_tidy.PROVINCIA)))\n",
    "# in the DF, but not in the GeoDF\n",
    "NotInDF=sorted(list(set(covid_p_f_monthly_tidy.PROVINCIA)-set(mapaProv.PROVINCIA)))\n",
    "\n",
    "# this are the changed needed\n",
    "changesMap={geo:df for geo,df in zip(NotInGeoDF,NotInDF)}\n",
    "changesMap"
   ]
  },
  {
   "cell_type": "markdown",
   "id": "0e8750bb-05b5-46a9-857f-6f8c2cec7888",
   "metadata": {
    "id": "0e8750bb-05b5-46a9-857f-6f8c2cec7888"
   },
   "source": [
    "Then, you make the changes needed:"
   ]
  },
  {
   "cell_type": "code",
   "execution_count": null,
   "id": "7a209a4b-4a2b-4fbd-8bde-f2c133beecd5",
   "metadata": {
    "id": "7a209a4b-4a2b-4fbd-8bde-f2c133beecd5"
   },
   "outputs": [],
   "source": [
    "mapaProv.replace({'PROVINCIA':changesMap}, inplace=True)"
   ]
  },
  {
   "cell_type": "markdown",
   "id": "ce7a91fa-8d06-44d5-8938-fccbd0a7ade7",
   "metadata": {
    "id": "ce7a91fa-8d06-44d5-8938-fccbd0a7ade7"
   },
   "source": [
    "You may need you DF in a wide format for an easy merge (smaller file size):"
   ]
  },
  {
   "cell_type": "code",
   "execution_count": null,
   "id": "99d50fb0-9bfa-4918-9c2b-910d7630c54e",
   "metadata": {
    "id": "99d50fb0-9bfa-4918-9c2b-910d7630c54e"
   },
   "outputs": [],
   "source": [
    "covid_p_f_yearly_tidy=covid_p_f_monthly_tidy.groupby(by=['PROVINCIA','year_test','variable'],as_index=False)['value'].agg('sum')\n",
    "covid_p_f_yearly_tidy.head(20)"
   ]
  },
  {
   "cell_type": "code",
   "execution_count": null,
   "id": "7a16cda9-5cf3-4e76-9fe8-9e10df5624c6",
   "metadata": {
    "id": "7a16cda9-5cf3-4e76-9fe8-9e10df5624c6"
   },
   "outputs": [],
   "source": [
    "covid_p_f_yearly=covid_p_f_yearly_tidy.pivot(index='PROVINCIA', columns=['year_test','variable'], values='value')\n",
    "covid_p_f_yearly.head()"
   ]
  },
  {
   "cell_type": "markdown",
   "id": "0190f036-f1b8-4132-80f8-bda4c7413c10",
   "metadata": {
    "id": "0190f036-f1b8-4132-80f8-bda4c7413c10"
   },
   "source": [
    "Notice the multi-index:"
   ]
  },
  {
   "cell_type": "code",
   "execution_count": null,
   "id": "c1b7364e-2fa0-4fe9-93a4-b8952788a150",
   "metadata": {
    "id": "c1b7364e-2fa0-4fe9-93a4-b8952788a150"
   },
   "outputs": [],
   "source": [
    "covid_p_f_yearly.columns"
   ]
  },
  {
   "cell_type": "code",
   "execution_count": null,
   "id": "f1ad2201-dc3c-426a-b97c-dd417ed4840b",
   "metadata": {
    "id": "f1ad2201-dc3c-426a-b97c-dd417ed4840b"
   },
   "outputs": [],
   "source": [
    "covid_p_f_yearly.columns=['_'.join((element[1],str(element[0]))) for element  in covid_p_f_yearly.columns]\n",
    "covid_p_f_yearly.reset_index(inplace=True)\n",
    "covid_p_f_yearly.head()"
   ]
  },
  {
   "cell_type": "markdown",
   "id": "f1e7cb33-b7b3-4a2d-9393-7e90ca31ded9",
   "metadata": {
    "id": "f1e7cb33-b7b3-4a2d-9393-7e90ca31ded9"
   },
   "source": [
    "Now we can merge:"
   ]
  },
  {
   "cell_type": "code",
   "execution_count": null,
   "id": "61a5f923-12cb-435a-b321-8aba5e54befe",
   "metadata": {
    "id": "61a5f923-12cb-435a-b321-8aba5e54befe"
   },
   "outputs": [],
   "source": [
    "mapaProvCovid=mapaProv.merge(covid_p_f_yearly, on='PROVINCIA', how='inner')\n",
    "\n",
    "mapaProvCovid"
   ]
  },
  {
   "cell_type": "markdown",
   "id": "35d28cee-86be-4bd0-a359-09fbe143f5a0",
   "metadata": {
    "id": "35d28cee-86be-4bd0-a359-09fbe143f5a0"
   },
   "source": [
    "We may need to make to calculations with maps, like positions, distance and areas. In those case, it is better to verify if your GeoDF is **projected**:"
   ]
  },
  {
   "cell_type": "code",
   "execution_count": null,
   "id": "9122ccee-ffc3-4487-b66e-f6135c8c5f58",
   "metadata": {
    "id": "9122ccee-ffc3-4487-b66e-f6135c8c5f58"
   },
   "outputs": [],
   "source": [
    "# current crs\n",
    "mapaProvCovid.crs"
   ]
  },
  {
   "cell_type": "code",
   "execution_count": null,
   "id": "8bd63b55-1175-4470-af9f-c9324600acb0",
   "metadata": {
    "id": "8bd63b55-1175-4470-af9f-c9324600acb0"
   },
   "outputs": [],
   "source": [
    "# or simply\n",
    "mapaProvCovid.crs.is_projected"
   ]
  },
  {
   "cell_type": "markdown",
   "id": "7ba58f20-dab8-4abb-9b24-961232b61347",
   "metadata": {
    "id": "7ba58f20-dab8-4abb-9b24-961232b61347"
   },
   "source": [
    "We could reproject:"
   ]
  },
  {
   "cell_type": "code",
   "execution_count": null,
   "id": "11b339f5-29d8-425d-b004-8dccd44b5ef3",
   "metadata": {
    "id": "11b339f5-29d8-425d-b004-8dccd44b5ef3"
   },
   "outputs": [],
   "source": [
    "mapaProvCovid_rpj=mapaProvCovid.to_crs(24892)\n",
    "mapaProvCovid_rpj.crs.is_projected"
   ]
  },
  {
   "cell_type": "code",
   "execution_count": null,
   "id": "be14eca9-3d27-4496-8ef8-381e704e2811",
   "metadata": {
    "id": "be14eca9-3d27-4496-8ef8-381e704e2811"
   },
   "outputs": [],
   "source": [
    "# details\n",
    "mapaProvCovid_rpj.crs"
   ]
  },
  {
   "cell_type": "markdown",
   "id": "5ddea93e-c01b-461c-abc6-427e51bd213b",
   "metadata": {
    "id": "5ddea93e-c01b-461c-abc6-427e51bd213b"
   },
   "source": [
    "Let's compute the area:"
   ]
  },
  {
   "cell_type": "code",
   "execution_count": null,
   "id": "cb173ded-fa14-489c-bf55-cb632ffd9bb6",
   "metadata": {
    "id": "cb173ded-fa14-489c-bf55-cb632ffd9bb6"
   },
   "outputs": [],
   "source": [
    "mapaProvCovid['areaKm2']=mapaProvCovid_rpj.area/10**6"
   ]
  },
  {
   "cell_type": "code",
   "execution_count": null,
   "id": "4e370092-0c0a-4486-bdb3-5a4f752c87dc",
   "metadata": {
    "id": "4e370092-0c0a-4486-bdb3-5a4f752c87dc"
   },
   "outputs": [],
   "source": [
    "# wanna try this?\n",
    "# mapaProvCovid.area/10**6"
   ]
  },
  {
   "cell_type": "markdown",
   "id": "fe7f711d-3f3b-4ba1-87cc-14a2b3b4f546",
   "metadata": {
    "id": "fe7f711d-3f3b-4ba1-87cc-14a2b3b4f546"
   },
   "source": [
    "<div class=\"alert alert-danger\">\n",
    "  We need to make sure the area of the polygons have a minimal bias in the viz.\n",
    "</div>"
   ]
  },
  {
   "cell_type": "markdown",
   "id": "32cfe5a0-9211-4a91-b93a-27ad3e7206a8",
   "metadata": {
    "id": "32cfe5a0-9211-4a91-b93a-27ad3e7206a8"
   },
   "source": [
    "We should **avoid** encoding counts with color, as it is correlated to area."
   ]
  },
  {
   "cell_type": "code",
   "execution_count": null,
   "id": "wiLIO6InMgDd",
   "metadata": {
    "id": "wiLIO6InMgDd"
   },
   "outputs": [],
   "source": [
    "# !pip install mapclassify"
   ]
  },
  {
   "cell_type": "code",
   "execution_count": null,
   "id": "2054013a-22fd-4c28-95f5-1931dedb4544",
   "metadata": {
    "id": "2054013a-22fd-4c28-95f5-1931dedb4544"
   },
   "outputs": [],
   "source": [
    "# poor choice...very common?\n",
    "mapaProvCovid.plot(column='positivos_2021',scheme='boxplot')"
   ]
  },
  {
   "cell_type": "markdown",
   "id": "413f8b66-bc41-4e73-b0d1-3e4f8f38d95d",
   "metadata": {
    "id": "413f8b66-bc41-4e73-b0d1-3e4f8f38d95d"
   },
   "source": [
    "Color may encode **densities** :"
   ]
  },
  {
   "cell_type": "code",
   "execution_count": null,
   "id": "5e203909-6800-43e5-8a24-294d45d5fe5d",
   "metadata": {
    "id": "5e203909-6800-43e5-8a24-294d45d5fe5d"
   },
   "outputs": [],
   "source": [
    "mapaProvCovid['positivos_2021_perKM2']=mapaProvCovid.positivos_2021/mapaProvCovid.areaKm2\n",
    "mapaProvCovid.plot(column='positivos_2021_perKM2',scheme='boxplot')"
   ]
  },
  {
   "cell_type": "markdown",
   "id": "683690dd-bcde-4c4f-9db9-a2c3362cdb2a",
   "metadata": {
    "id": "683690dd-bcde-4c4f-9db9-a2c3362cdb2a"
   },
   "source": [
    "Color may encode **proportions** :"
   ]
  },
  {
   "cell_type": "code",
   "execution_count": null,
   "id": "b45eb13a-6fe9-4dcd-a139-95c3746a04a8",
   "metadata": {
    "id": "b45eb13a-6fe9-4dcd-a139-95c3746a04a8"
   },
   "outputs": [],
   "source": [
    "mapaProvCovid['fallecidos2021_share']=mapaProvCovid.fallecidos_2021/(mapaProvCovid.fallecidos_2020+mapaProvCovid.fallecidos_2021)\n",
    "mapaProvCovid.plot(column='fallecidos2021_share',scheme='boxplot')"
   ]
  },
  {
   "cell_type": "markdown",
   "id": "5f58fcdb-8b9b-4661-ac27-e359253c945f",
   "metadata": {
    "id": "5f58fcdb-8b9b-4661-ac27-e359253c945f"
   },
   "source": [
    "If we need to compare, we should avoid **differences**:"
   ]
  },
  {
   "cell_type": "code",
   "execution_count": null,
   "id": "598ae7f5-f2f2-4e8d-868b-da9b3d7d89c8",
   "metadata": {
    "id": "598ae7f5-f2f2-4e8d-868b-da9b3d7d89c8"
   },
   "outputs": [],
   "source": [
    "mapaProvCovid['fallecidos_diff']=mapaProvCovid.fallecidos_2021-mapaProvCovid.fallecidos_2020\n",
    "mapaProvCovid.plot(column='fallecidos_diff',scheme='boxplot')"
   ]
  },
  {
   "cell_type": "markdown",
   "id": "7b287d93-b116-4e58-8209-00cadb2acd97",
   "metadata": {
    "id": "7b287d93-b116-4e58-8209-00cadb2acd97"
   },
   "source": [
    "For comparissons, we should compute ratios instead:"
   ]
  },
  {
   "cell_type": "code",
   "execution_count": null,
   "id": "36bc5729-7247-49b5-b0f6-9633756b7ee8",
   "metadata": {
    "id": "36bc5729-7247-49b5-b0f6-9633756b7ee8"
   },
   "outputs": [],
   "source": [
    "mapaProvCovid['fallecidos_rate2120']=mapaProvCovid.fallecidos_2021/mapaProvCovid.fallecidos_2020\n",
    "mapaProvCovid.plot(column='fallecidos_rate2120',scheme='boxplot')"
   ]
  },
  {
   "cell_type": "markdown",
   "id": "793bf11e-b5d8-4772-b1eb-19e9b2643ebe",
   "metadata": {
    "id": "793bf11e-b5d8-4772-b1eb-19e9b2643ebe"
   },
   "source": [
    "Let me get rid of \"fallecidos_diff\":"
   ]
  },
  {
   "cell_type": "code",
   "execution_count": null,
   "id": "571500e3-ac1f-4837-83ab-4807f3c3068a",
   "metadata": {
    "id": "571500e3-ac1f-4837-83ab-4807f3c3068a"
   },
   "outputs": [],
   "source": [
    "mapaProvCovid.drop(columns='fallecidos_diff',inplace=True)"
   ]
  },
  {
   "cell_type": "markdown",
   "id": "c66b9312-07a8-4f6f-9066-f10627022bb8",
   "metadata": {
    "id": "c66b9312-07a8-4f6f-9066-f10627022bb8"
   },
   "source": [
    "These are the new columns:"
   ]
  },
  {
   "cell_type": "code",
   "execution_count": null,
   "id": "dabb5440-10d3-439e-8a2f-ffcb78a92af9",
   "metadata": {
    "id": "dabb5440-10d3-439e-8a2f-ffcb78a92af9"
   },
   "outputs": [],
   "source": [
    "mapaProvCovid.loc[:,'positivos_2021_perKM2':]"
   ]
  },
  {
   "cell_type": "markdown",
   "id": "d77a9000-93f9-43b6-802c-03db2d9a1c67",
   "metadata": {
    "id": "d77a9000-93f9-43b6-802c-03db2d9a1c67"
   },
   "source": [
    "The maps created grouped those variables on the run, let's create our own groupings. For example:"
   ]
  },
  {
   "cell_type": "code",
   "execution_count": null,
   "id": "71dcab45-9265-4568-ae91-09156637122b",
   "metadata": {
    "id": "71dcab45-9265-4568-ae91-09156637122b"
   },
   "outputs": [],
   "source": [
    "import mapclassify as mc # needed\n",
    "\n",
    "bp_perkm2=mc.BoxPlot(mapaProvCovid.positivos_2021_perKM2)\n",
    "# details\n",
    "bp_perkm2"
   ]
  },
  {
   "cell_type": "code",
   "execution_count": null,
   "id": "3ff7c106-7078-459e-9e01-efe1a98f2d42",
   "metadata": {
    "id": "3ff7c106-7078-459e-9e01-efe1a98f2d42"
   },
   "outputs": [],
   "source": [
    "# for each province\n",
    "bp_perkm2.yb.astype('str')"
   ]
  },
  {
   "cell_type": "markdown",
   "id": "8a4f61a4-910c-4ec5-8116-295b20e50b0d",
   "metadata": {
    "id": "8a4f61a4-910c-4ec5-8116-295b20e50b0d"
   },
   "source": [
    "Let's create a column with those values:"
   ]
  },
  {
   "cell_type": "code",
   "execution_count": null,
   "id": "769686aa-e202-4b9f-a533-baea83f37668",
   "metadata": {
    "id": "769686aa-e202-4b9f-a533-baea83f37668"
   },
   "outputs": [],
   "source": [
    "mapaProvCovid['positivos_2021_perKM2_group']=bp_perkm2.yb.astype('str')"
   ]
  },
  {
   "cell_type": "markdown",
   "id": "682975fa-74c1-4100-bc1b-2d9924e71a64",
   "metadata": {
    "id": "682975fa-74c1-4100-bc1b-2d9924e71a64"
   },
   "source": [
    "Let's do the same for the rest:"
   ]
  },
  {
   "cell_type": "code",
   "execution_count": null,
   "id": "031e80ed-c829-4f74-bb2e-48481c1e8342",
   "metadata": {
    "id": "031e80ed-c829-4f74-bb2e-48481c1e8342"
   },
   "outputs": [],
   "source": [
    "mapaProvCovid['fallecidos_rate2120_group']=mc.BoxPlot(mapaProvCovid.fallecidos_rate2120).yb.astype('str')\n",
    "mapaProvCovid['fallecidos2021_share_group']=mc.BoxPlot(mapaProvCovid.fallecidos2021_share).yb.astype('str')"
   ]
  },
  {
   "cell_type": "markdown",
   "id": "2b785a5c-cf8f-4ccb-9c61-8d727446744a",
   "metadata": {
    "id": "2b785a5c-cf8f-4ccb-9c61-8d727446744a"
   },
   "source": [
    "Take a look at their stats:"
   ]
  },
  {
   "cell_type": "code",
   "execution_count": null,
   "id": "7b9ab587-d667-4db2-b879-c817224a8fba",
   "metadata": {
    "id": "7b9ab587-d667-4db2-b879-c817224a8fba"
   },
   "outputs": [],
   "source": [
    "mapaProvCovid.loc[:,'positivos_2021_perKM2_group':].describe()"
   ]
  },
  {
   "cell_type": "markdown",
   "id": "f081a8f8-f943-4ec5-b845-928c2e13845a",
   "metadata": {
    "id": "f081a8f8-f943-4ec5-b845-928c2e13845a"
   },
   "source": [
    "...and data types:"
   ]
  },
  {
   "cell_type": "code",
   "execution_count": null,
   "id": "5a80d280-cd59-4af6-a78c-cd6a4ebd8b63",
   "metadata": {
    "id": "5a80d280-cd59-4af6-a78c-cd6a4ebd8b63"
   },
   "outputs": [],
   "source": [
    "mapaProvCovid.loc[:,'positivos_2021_perKM2_group':].info()"
   ]
  },
  {
   "cell_type": "markdown",
   "id": "26d685d6-7e90-4846-a53f-b94c522f2899",
   "metadata": {
    "id": "26d685d6-7e90-4846-a53f-b94c522f2899"
   },
   "source": [
    "These are the current values:"
   ]
  },
  {
   "cell_type": "code",
   "execution_count": null,
   "id": "98b1625d-7359-4f45-ac40-589050e12713",
   "metadata": {
    "id": "98b1625d-7359-4f45-ac40-589050e12713"
   },
   "outputs": [],
   "source": [
    "mapaProvCovid.loc[:,'positivos_2021_perKM2_group':]"
   ]
  },
  {
   "cell_type": "markdown",
   "id": "bb5fdb25-78fc-409a-876a-f0f448849ffd",
   "metadata": {
    "id": "bb5fdb25-78fc-409a-876a-f0f448849ffd"
   },
   "source": [
    "Let me relabel those values:"
   ]
  },
  {
   "cell_type": "code",
   "execution_count": null,
   "id": "d38a422c-e56a-4a83-a651-115659f17df8",
   "metadata": {
    "id": "d38a422c-e56a-4a83-a651-115659f17df8"
   },
   "outputs": [],
   "source": [
    "TheLabels=['0_Best','1_veryGood','2_notGood','3_Bad','4_veryBad','5_Worst']\n",
    "TheRecoding={str(n):l for n,l in zip(range(6),TheLabels)}\n",
    "TheRecoding"
   ]
  },
  {
   "cell_type": "code",
   "execution_count": null,
   "id": "491c4bb3-18a4-4b81-9dad-768ece33350e",
   "metadata": {
    "id": "491c4bb3-18a4-4b81-9dad-768ece33350e"
   },
   "outputs": [],
   "source": [
    "mapaProvCovid.loc[:,'positivos_2021_perKM2_group':]=mapaProvCovid.loc[:,'positivos_2021_perKM2_group':].replace(TheRecoding)\n",
    "mapaProvCovid.loc[:,'positivos_2021_perKM2_group':]"
   ]
  },
  {
   "cell_type": "markdown",
   "id": "cc07e333-39e7-4a09-9cf2-07888120710d",
   "metadata": {
    "id": "cc07e333-39e7-4a09-9cf2-07888120710d"
   },
   "source": [
    "We can replot the map. Make sure to use the right colormap for ordinal data from [matplotlib](https://matplotlib.org/stable/users/explain/colors/colormaps.html) (another nice alternative is [brewer colors](https://colorbrewer2.org/#type=sequential&scheme=BuGn&n=3))"
   ]
  },
  {
   "cell_type": "code",
   "execution_count": null,
   "id": "e479a292-df09-4a5c-a946-5c77545663ec",
   "metadata": {
    "id": "e479a292-df09-4a5c-a946-5c77545663ec"
   },
   "outputs": [],
   "source": [
    "mapaProvCovid.plot(column='fallecidos_rate2120_group',categorical=True,cmap='YlOrRd_r',# notice _r\n",
    "                   legend=True,legend_kwds={\"loc\": \"center left\", \"bbox_to_anchor\": (1, 0.5)})"
   ]
  },
  {
   "cell_type": "markdown",
   "id": "5ba5f64b-4b70-4be3-b914-6883beadff17",
   "metadata": {
    "id": "5ba5f64b-4b70-4be3-b914-6883beadff17"
   },
   "source": [
    "This is a nice option, too:"
   ]
  },
  {
   "cell_type": "code",
   "execution_count": null,
   "id": "c9202e1e-b431-41b1-af08-dbed78cd9c4a",
   "metadata": {
    "id": "c9202e1e-b431-41b1-af08-dbed78cd9c4a"
   },
   "outputs": [],
   "source": [
    "mapaProvCovid.explore(\"fallecidos_rate2120_group\", cmap=\"YlOrRd_r\")"
   ]
  },
  {
   "cell_type": "markdown",
   "id": "4de63ab5-9c76-444b-b483-4896826a4e86",
   "metadata": {
    "id": "4de63ab5-9c76-444b-b483-4896826a4e86"
   },
   "source": [
    "We should save the map now:"
   ]
  },
  {
   "cell_type": "code",
   "execution_count": null,
   "id": "25b30bf9-6a48-447a-8057-d6bd172abf6f",
   "metadata": {
    "id": "25b30bf9-6a48-447a-8057-d6bd172abf6f"
   },
   "outputs": [],
   "source": [
    "# mapaProvCovid.to_file(\"mapaProvCovid.geojson\", driver='GeoJSON')"
   ]
  },
  {
   "cell_type": "markdown",
   "id": "c94d8eb1-ed85-413d-845b-7d6c230b63df",
   "metadata": {
    "id": "c94d8eb1-ed85-413d-845b-7d6c230b63df"
   },
   "source": [
    "Let me do some extra steps, which **can not** be saved in a geo structure. Let's create ordinal factors!"
   ]
  },
  {
   "cell_type": "code",
   "execution_count": null,
   "id": "37cea3d8-22dd-4d50-97ef-740827ffa944",
   "metadata": {
    "id": "37cea3d8-22dd-4d50-97ef-740827ffa944"
   },
   "outputs": [],
   "source": [
    "TheNewColumns=['positivos_2021_perKM2_ord',\t'fallecidos_rate2120_ord','fallecidos2021_share_ord']"
   ]
  },
  {
   "cell_type": "code",
   "execution_count": null,
   "id": "b66c6583",
   "metadata": {
    "id": "b66c6583"
   },
   "outputs": [],
   "source": [
    "from pandas.api.types import CategoricalDtype\n",
    "\n",
    "cat_type = CategoricalDtype(categories=TheLabels, ordered=True)\n",
    "mapaProvCovid[TheNewColumns]=mapaProvCovid.loc[:,'positivos_2021_perKM2_group':].apply(lambda x:x.astype(cat_type))\n",
    "mapaProvCovid.info()"
   ]
  },
  {
   "cell_type": "code",
   "execution_count": null,
   "id": "eed9146e-8103-4583-89c8-f4b0f7232b85",
   "metadata": {
    "id": "eed9146e-8103-4583-89c8-f4b0f7232b85"
   },
   "outputs": [],
   "source": [
    "mapaProvCovid.fallecidos2021_share_ord"
   ]
  },
  {
   "cell_type": "code",
   "execution_count": null,
   "id": "8560b366-050f-4e90-bde0-9d5fc9bf6fab",
   "metadata": {
    "id": "8560b366-050f-4e90-bde0-9d5fc9bf6fab"
   },
   "outputs": [],
   "source": [
    "mapaProvCovid.plot(column='fallecidos_rate2120_ord',categorical=True,cmap='YlOrRd_r',\n",
    "                   legend=True,legend_kwds={\"loc\": \"center left\", \"bbox_to_anchor\": (1, 0.5)})"
   ]
  },
  {
   "cell_type": "code",
   "execution_count": null,
   "id": "ec78a74c-f248-4846-b944-512cd7d5cd6c",
   "metadata": {
    "id": "ec78a74c-f248-4846-b944-512cd7d5cd6c"
   },
   "outputs": [],
   "source": [
    "mapaProvCovid.explore(\"fallecidos_rate2120_ord\", cmap=\"YlOrRd_r\")"
   ]
  },
  {
   "cell_type": "markdown",
   "id": "aa126f54-df8a-4fb7-b883-a945e274f51b",
   "metadata": {
    "id": "aa126f54-df8a-4fb7-b883-a945e274f51b"
   },
   "source": [
    "Everything worked well. But..."
   ]
  },
  {
   "cell_type": "code",
   "execution_count": null,
   "id": "7c9e4e94-790e-48b8-993e-a90a3bbeaf43",
   "metadata": {
    "id": "7c9e4e94-790e-48b8-993e-a90a3bbeaf43"
   },
   "outputs": [],
   "source": [
    "# mapaProvCovid.to_file(path('data',\"mapaProvCovid.gpkg\"), layer='provincias', driver=\"GPKG\")"
   ]
  },
  {
   "cell_type": "code",
   "execution_count": null,
   "id": "b6b1af65-a05d-488b-85be-0e8429a11544",
   "metadata": {
    "id": "b6b1af65-a05d-488b-85be-0e8429a11544"
   },
   "outputs": [],
   "source": [
    "# mapaProvCovid.to_file(path('data',\"mapaProvCovid.shp\"))"
   ]
  },
  {
   "cell_type": "code",
   "execution_count": null,
   "id": "a7a851c7-8f1b-4b4f-acb9-9ee8fea8c21e",
   "metadata": {
    "id": "a7a851c7-8f1b-4b4f-acb9-9ee8fea8c21e"
   },
   "outputs": [],
   "source": [
    "# mapaProvCovid.to_file(path('data',\"mapaProvCovid.geojson\"), driver='GeoJSON')"
   ]
  }
 ],
 "metadata": {
  "colab": {
   "provenance": []
  },
  "kernelspec": {
   "display_name": "Python 3 (ipykernel)",
   "language": "python",
   "name": "python3"
  },
  "language_info": {
   "codemirror_mode": {
    "name": "ipython",
    "version": 3
   },
   "file_extension": ".py",
   "mimetype": "text/x-python",
   "name": "python",
   "nbconvert_exporter": "python",
   "pygments_lexer": "ipython3",
   "version": "3.11.9"
  }
 },
 "nbformat": 4,
 "nbformat_minor": 5
}
